{
 "cells": [
  {
   "cell_type": "code",
   "execution_count": 3,
   "metadata": {},
   "outputs": [
    {
     "name": "stdout",
     "output_type": "stream",
     "text": [
      "Removing weight norm...\n"
     ]
    }
   ],
   "source": [
    "import argparse\n",
    "from glob import glob\n",
    "import os\n",
    "\n",
    "import torch\n",
    "import tqdm\n",
    "from omegaconf import OmegaConf\n",
    "from scipy.io.wavfile import write\n",
    "\n",
    "from model.generator import Generator\n",
    "from utils.stft import TacotronSTFT\n",
    "from utils.utils import read_wav_np\n",
    "\n",
    "\n",
    "\n",
    "checkpoint = torch.load(\"/home/alex/projects/univnet/models/univnet_bwe_0041.pt\")\n",
    "hp = OmegaConf.create(checkpoint[\"hp_str\"])\n",
    "\n",
    "stft = TacotronSTFT(\n",
    "    hp.audio.filter_length,\n",
    "    hp.audio.hop_length//2,\n",
    "    hp.audio.win_length//2,\n",
    "    hp.audio.n_mel_channels,\n",
    "    hp.audio.sampling_rate//2,\n",
    "    hp.audio.mel_fmin,\n",
    "    hp.audio.mel_fmax,\n",
    "    center=False,\n",
    ")\n",
    "\n",
    "\n",
    "model = Generator(hp).cuda()\n",
    "saved_state_dict = checkpoint[\"model_g\"]\n",
    "new_state_dict = {}\n",
    "\n",
    "for k, v in saved_state_dict.items():\n",
    "    try:\n",
    "        new_state_dict[k] = saved_state_dict[\"module.\" + k]\n",
    "    except:\n",
    "        new_state_dict[k] = v\n",
    "model.load_state_dict(new_state_dict)\n",
    "model.eval(inference=True)\n",
    "\n"
   ]
  },
  {
   "cell_type": "code",
   "execution_count": 6,
   "metadata": {},
   "outputs": [],
   "source": [
    "filepath = \"/home/alex/projects/univnet/input_audio/BORKA_BARKER_03.wav\"\n",
    "filename = os.path.split(filepath)[1]\n",
    "sr, audio = read_wav_np(filepath)\n",
    "\n",
    "wav = torch.from_numpy(audio).unsqueeze(0)\n",
    "mel = stft.mel_spectrogram(wav)\n",
    "\n",
    "with torch.no_grad():\n",
    "\n",
    "    if len(mel.shape) == 2:\n",
    "        mel = mel.unsqueeze(0)\n",
    "    mel = mel.cuda()\n",
    "\n",
    "    audio = model.inference(mel)\n",
    "    audio = audio.cpu().detach().numpy()\n",
    "\n",
    "\n",
    "    out_path = os.path.join(\"/home/alex/projects/univnet/output_test\", filename)\n",
    "    write(out_path, hp.audio.sampling_rate, audio)\n"
   ]
  }
 ],
 "metadata": {
  "kernelspec": {
   "display_name": "Python 3.8.10 ('.venv': venv)",
   "language": "python",
   "name": "python3"
  },
  "language_info": {
   "codemirror_mode": {
    "name": "ipython",
    "version": 3
   },
   "file_extension": ".py",
   "mimetype": "text/x-python",
   "name": "python",
   "nbconvert_exporter": "python",
   "pygments_lexer": "ipython3",
   "version": "3.8.10"
  },
  "orig_nbformat": 4,
  "vscode": {
   "interpreter": {
    "hash": "6157168666b5d245493b7dd7fa3fa766ff2dfd1310a960f27324c42d64508cda"
   }
  }
 },
 "nbformat": 4,
 "nbformat_minor": 2
}
